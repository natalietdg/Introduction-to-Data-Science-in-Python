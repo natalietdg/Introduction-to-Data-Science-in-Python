{
 "cells": [
  {
   "cell_type": "markdown",
   "metadata": {},
   "source": [
    "---\n",
    "\n",
    "_You are currently looking at **version 1.5** of this notebook. To download notebooks and datafiles, as well as get help on Jupyter notebooks in the Coursera platform, visit the [Jupyter Notebook FAQ](https://www.coursera.org/learn/python-data-analysis/resources/0dhYG) course resource._\n",
    "\n",
    "---"
   ]
  },
  {
   "cell_type": "markdown",
   "metadata": {},
   "source": [
    "# Assignment 3 - More Pandas\n",
    "This assignment requires more individual learning then the last one did - you are encouraged to check out the [pandas documentation](http://pandas.pydata.org/pandas-docs/stable/) to find functions or methods you might not have used yet, or ask questions on [Stack Overflow](http://stackoverflow.com/) and tag them as pandas and python related. And of course, the discussion forums are open for interaction with your peers and the course staff."
   ]
  },
  {
   "cell_type": "markdown",
   "metadata": {},
   "source": [
    "### Question 1 (20%)\n",
    "Load the energy data from the file `Energy Indicators.xls`, which is a list of indicators of [energy supply and renewable electricity production](Energy%20Indicators.xls) from the [United Nations](http://unstats.un.org/unsd/environment/excel_file_tables/2013/Energy%20Indicators.xls) for the year 2013, and should be put into a DataFrame with the variable name of **energy**.\n",
    "\n",
    "Keep in mind that this is an Excel file, and not a comma separated values file. Also, make sure to exclude the footer and header information from the datafile. The first two columns are unneccessary, so you should get rid of them, and you should change the column labels so that the columns are:\n",
    "\n",
    "`['Country', 'Energy Supply', 'Energy Supply per Capita', '% Renewable']`\n",
    "\n",
    "Convert `Energy Supply` to gigajoules (there are 1,000,000 gigajoules in a petajoule). For all countries which have missing data (e.g. data with \"...\") make sure this is reflected as `np.NaN` values.\n",
    "\n",
    "Rename the following list of countries (for use in later questions):\n",
    "\n",
    "```\"Republic of Korea\": \"South Korea\",\n",
    "\"United States of America\": \"United States\",\n",
    "\"United Kingdom of Great Britain and Northern Ireland\": \"United Kingdom\",\n",
    "\"China, Hong Kong Special Administrative Region\": \"Hong Kong\"```\n",
    "\n",
    "There are also several countries with numbers and/or parenthesis in their name. Be sure to remove these, \n",
    "\n",
    "e.g. \n",
    "\n",
    "`'Bolivia (Plurinational State of)'` should be `'Bolivia'`, \n",
    "\n",
    "`'Switzerland17'` should be `'Switzerland'`.\n",
    "\n",
    "<br>\n",
    "\n",
    "Next, load the GDP data from the file `world_bank.csv`, which is a csv containing countries' GDP from 1960 to 2015 from [World Bank](http://data.worldbank.org/indicator/NY.GDP.MKTP.CD). Call this DataFrame **GDP**. \n",
    "\n",
    "Make sure to skip the header, and rename the following list of countries:\n",
    "\n",
    "```\"Korea, Rep.\": \"South Korea\", \n",
    "\"Iran, Islamic Rep.\": \"Iran\",\n",
    "\"Hong Kong SAR, China\": \"Hong Kong\"```\n",
    "\n",
    "<br>\n",
    "\n",
    "Finally, load the [Sciamgo Journal and Country Rank data for Energy Engineering and Power Technology](http://www.scimagojr.com/countryrank.php?category=2102) from the file `scimagojr-3.xlsx`, which ranks countries based on their journal contributions in the aforementioned area. Call this DataFrame **ScimEn**.\n",
    "\n",
    "Join the three datasets: GDP, Energy, and ScimEn into a new dataset (using the intersection of country names). Use only the last 10 years (2006-2015) of GDP data and only the top 15 countries by Scimagojr 'Rank' (Rank 1 through 15). \n",
    "\n",
    "The index of this DataFrame should be the name of the country, and the columns should be ['Rank', 'Documents', 'Citable documents', 'Citations', 'Self-citations',\n",
    "       'Citations per document', 'H index', 'Energy Supply',\n",
    "       'Energy Supply per Capita', '% Renewable', '2006', '2007', '2008',\n",
    "       '2009', '2010', '2011', '2012', '2013', '2014', '2015'].\n",
    "\n",
    "*This function should return a DataFrame with 20 columns and 15 entries.*"
   ]
  },
  {
   "cell_type": "code",
   "execution_count": 2,
   "metadata": {
    "collapsed": true,
    "scrolled": true,
    "umich_part_id": "009",
    "umich_partlist_id": "003"
   },
   "outputs": [],
   "source": [
    "import pandas as pd\n",
    "import numpy as np\n",
    "import re\n",
    "\n",
    "\n",
    "#GDP[(GDP['Data Source']=='South Korea')]\n",
    "#for x in energy['Country']:                 \n",
    "   # if (type(x)==np.str):\n",
    "        #x = x.split(\"(\",1)[0]\n",
    "        \n",
    "#energy['Country'] = energy['Country'].apply(lambda x: x.split(\" (\")[0] if (type(x)!=np.float) else x)\n",
    "#energy['Country'] = energy['Country'].apply(lambda x: x.split('(\\d+)')[0] if (type(x)==np.string_ && ('(\\d+)')) else x)\n",
    "#energy[energy['Country']=='Switzerland']\n",
    "\n",
    "def answer_one():\n",
    "    energy = pd.read_excel('Energy Indicators.xls').drop(0)\n",
    "    energy=energy.iloc[:-38]\n",
    "    energy = energy.drop([\"Unnamed: 0\", \"Unnamed: 1\"], axis=1)\n",
    "    energy = energy.rename(columns={\"Environmental Indicators: Energy\": \"Country\", \"Unnamed: 3\": \"Energy Supply\", \"Unnamed: 4\": \"Energy Supply per Capita\", \"Unnamed: 5\": \"% Renewable\"})\n",
    "    \n",
    "    energy = energy.replace(to_replace=['...'], value=np.nan)\n",
    "    energy['Energy Supply'] = energy['Energy Supply'].apply(lambda x: x*1000000 if (type(x)!=np.nan) else x)\n",
    "    energy['Country'] = energy['Country'].astype('str')\n",
    "    replace_dict = {\"Republic of Korea\": \"South Korea\",\n",
    "\"United States of America\": \"United States\",\n",
    "\"United Kingdom of Great Britain and Northern Ireland\": \"United Kingdom\",\n",
    "\"China, Hong Kong Special Administrative Region\": \"Hong Kong\"}\n",
    "    # energy['Country'] = energy['Country'].replace({'Republic of Korea':\"South Korea\"}).astype('str')\n",
    "    #energy['Country'] = energy['Country'].replace({'United States of America': \"United States\"}).astype('str')\n",
    "    #energy['Country'].replace(to_replace=replace_dict, value=new_value)\n",
    "    \n",
    "    #energy = energy.replace({'Country':{'United States of America':'United States','United Kingdom of Great Britain and Northern Ireland':'United Kingdom','China, Hong Kong Special Administrative Region':'Hong Kong','Republic of Korea':'South Korea'}})\n",
    "    #energy['Country'] = energy.replace({'Country':{:, : ,\"United Kingdom of Great Britain and Northern Ireland\":'United Kingdom','China, Hong Kong Special Administrative Region':'Hong Kong'}})\n",
    "    energy['Country'] = energy['Country'].apply(lambda x: x.split(\" (\")[0] if (type(x)!=np.float) else x)\n",
    "    pattern='[0-9]'\n",
    "    energy['Country'] = energy['Country'].apply(lambda x: re.sub(pattern, '', x) if (type(x)!=np.float) else x)\n",
    "    energy = energy.replace({'Country':replace_dict})\n",
    "    #print(energy)\n",
    "   # energy = energy.iloc[8:-37]\n",
    "\n",
    "    GDP = pd.read_csv('world_bank.csv')\n",
    "    header = GDP.loc[3]\n",
    "    GDP = GDP[4:]\n",
    "    GDP.columns = header\n",
    "    GDP = GDP.rename(columns={'Country Name':'Country'})\n",
    "    GDP['Country'] = GDP['Country'].replace({'Korea, Rep.': \"South Korea\", \"Iran, Islamic Rep.\": 'Iran', 'Hong Kong SAR, China': \"Hong Kong\"})\n",
    "    #\n",
    "    \n",
    "    \n",
    "    list_x = []\n",
    "    list_y = []\n",
    "    for x in GDP.columns:\n",
    "        if type(x)==np.float64:\n",
    "            list_x.append(x)\n",
    "            list_y.append('{:0.0f}'.format(x))\n",
    "\n",
    "    GDP.rename(columns={x:y for x, y in zip(list_x, list_y)}, inplace=True)\n",
    "    GDP = GDP[['Country', 'Country Code', 'Indicator Name', 'Indicator Code', '2006', '2007', '2008', '2009', '2010', '2011', '2012', '2013', '2014', '2015' ]]        \n",
    "\n",
    "    ScimEn = pd.read_excel('scimagojr-3.xlsx')\n",
    "    ScimEn = ScimEn.sort_values('Rank').head(15)\n",
    "    top15 = pd.DataFrame(ScimEn.values)\n",
    "    top15 = top15.set_index(1)\n",
    "    top15names = top15.index.tolist()\n",
    "    GDP = GDP[GDP['Country'].isin(top15names)==True]\n",
    "    GDP = GDP.set_index('Country')\n",
    "    energy = energy[energy['Country'].isin(top15names)==True]\n",
    "    energy = energy.set_index('Country')\n",
    "    ScimEn = ScimEn.set_index('Country')\n",
    "\n",
    "    #ScimEn\n",
    "    #GDP.head(10)\n",
    "    \n",
    "    mergedDF = pd.merge(pd.merge(energy, ScimEn, how='outer',left_index=True, right_index=True), GDP,how='outer', left_index=True, right_index=True)\n",
    "    #mergedDF.rename(columns={\"Country_y\":\"Country\"}, inplace=True)\n",
    "    #mergedDF = mergedDF.sort_values('Rank').head(15)\n",
    "    #mergedDF = mergedDF.set_index('Country')\n",
    "    #mergedDF.reset_index()\n",
    "    dontdrop = ['Rank', 'Documents', 'Citable documents', 'Citations', 'Self-citations', 'Citations per document', 'H index', 'Energy Supply', 'Energy Supply per Capita', '% Renewable', '2006', '2007', '2008', '2009', '2010', '2011', '2012', '2013', '2014', '2015']\n",
    "    #mergedDF = mergedDF.set_index('Country')\n",
    "    mergedDF.drop(mergedDF.columns.difference(dontdrop), 1, inplace=True)\n",
    "    mergedDF = mergedDF.sort_values('Rank').head(15)\n",
    "    #mergedDF = mergedDF[mergedDF['Country'].isin(top15names)]\n",
    "    #mergedDF.reset_index()\n",
    "    #mergedDF = mergedDF.set_index('Country_y')\n",
    "    return mergedDF"
   ]
  },
  {
   "cell_type": "markdown",
   "metadata": {},
   "source": [
    "### Question 2 (6.6%)\n",
    "The previous question joined three datasets then reduced this to just the top 15 entries. When you joined the datasets, but before you reduced this to the top 15 items, how many entries did you lose?\n",
    "\n",
    "*This function should return a single number.*"
   ]
  },
  {
   "cell_type": "code",
   "execution_count": 3,
   "metadata": {},
   "outputs": [
    {
     "data": {
      "text/html": [
       "<svg width=\"800\" height=\"300\">\n",
       "  <circle cx=\"150\" cy=\"180\" r=\"80\" fill-opacity=\"0.2\" stroke=\"black\" stroke-width=\"2\" fill=\"blue\" />\n",
       "  <circle cx=\"200\" cy=\"100\" r=\"80\" fill-opacity=\"0.2\" stroke=\"black\" stroke-width=\"2\" fill=\"red\" />\n",
       "  <circle cx=\"100\" cy=\"100\" r=\"80\" fill-opacity=\"0.2\" stroke=\"black\" stroke-width=\"2\" fill=\"green\" />\n",
       "  <line x1=\"150\" y1=\"125\" x2=\"300\" y2=\"150\" stroke=\"black\" stroke-width=\"2\" fill=\"black\" stroke-dasharray=\"5,3\"/>\n",
       "  <text  x=\"300\" y=\"165\" font-family=\"Verdana\" font-size=\"35\">Everything but this!</text>\n",
       "</svg>"
      ],
      "text/plain": [
       "<IPython.core.display.HTML object>"
      ]
     },
     "metadata": {},
     "output_type": "display_data"
    }
   ],
   "source": [
    "%%HTML\n",
    "<svg width=\"800\" height=\"300\">\n",
    "  <circle cx=\"150\" cy=\"180\" r=\"80\" fill-opacity=\"0.2\" stroke=\"black\" stroke-width=\"2\" fill=\"blue\" />\n",
    "  <circle cx=\"200\" cy=\"100\" r=\"80\" fill-opacity=\"0.2\" stroke=\"black\" stroke-width=\"2\" fill=\"red\" />\n",
    "  <circle cx=\"100\" cy=\"100\" r=\"80\" fill-opacity=\"0.2\" stroke=\"black\" stroke-width=\"2\" fill=\"green\" />\n",
    "  <line x1=\"150\" y1=\"125\" x2=\"300\" y2=\"150\" stroke=\"black\" stroke-width=\"2\" fill=\"black\" stroke-dasharray=\"5,3\"/>\n",
    "  <text  x=\"300\" y=\"165\" font-family=\"Verdana\" font-size=\"35\">Everything but this!</text>\n",
    "</svg>"
   ]
  },
  {
   "cell_type": "code",
   "execution_count": 72,
   "metadata": {
    "scrolled": true,
    "umich_part_id": "010",
    "umich_partlist_id": "003"
   },
   "outputs": [
    {
     "data": {
      "text/plain": [
       "307"
      ]
     },
     "execution_count": 72,
     "metadata": {},
     "output_type": "execute_result"
    }
   ],
   "source": [
    "def answer_two():\n",
    "    ScimEn = pd.read_excel('scimagojr-3.xlsx')\n",
    "    ScimEn = ScimEn.set_index(['Country'])\n",
    "    energy = pd.read_excel('Energy Indicators.xls').drop(0)\n",
    "    energy = energy.iloc[10:242]#15:242]\n",
    "    energy = energy.rename(columns={'Unnamed: 1': 'Country'})\n",
    "   \n",
    "    GDP = pd.read_csv('world_bank.csv')\n",
    "    header = GDP.loc[3]\n",
    "    GDP = GDP[4:]\n",
    "    GDP.columns = header\n",
    "    GDP = GDP.rename(columns={'Country Name':'Country'})\n",
    "    GDP['Country'] = GDP['Country'].replace({'Korea, Rep.': \"South Korea\", \"Iran, Islamic Rep.\": 'Iran', 'Hong Kong SAR, China': \"Hong Kong\"})\n",
    "    #\n",
    "    \n",
    "    replace_dict = {\"Republic of Korea\": \"South Korea\", \"United States of America\": \"United States\", \"United Kingdom of Great Britain and Northern Ireland\": \"United Kingdom\", \"China, Hong Kong Special Administrative Region\": \"Hong Kong\"}\n",
    "    energy['Country'] = energy['Country'].apply(lambda x: x.split(\" (\")[0] if (type(x)!=np.float) else x)\n",
    "    pattern='[0-9]'\n",
    "    energy['Country'] = energy['Country'].apply(lambda x: re.sub(pattern, '', x) if (type(x)!=np.float) else x)\n",
    "    energy = energy.replace({'Country':replace_dict})\n",
    "    energy = energy.set_index(['Country'])\n",
    "    list_x = []\n",
    "    list_y = []\n",
    "    for x in GDP.columns:\n",
    "        if type(x)==np.float64:\n",
    "            list_x.append(x)\n",
    "            list_y.append('{:0.0f}'.format(x))\n",
    "\n",
    "    GDP.rename(columns={x:y for x, y in zip(list_x, list_y)}, inplace=True)\n",
    "    GDP = GDP[['Country', 'Country Code', 'Indicator Name', 'Indicator Code', '2006', '2007', '2008', '2009', '2010', '2011', '2012', '2013', '2014', '2015' ]]        \n",
    "    \n",
    "    GDP['Country'] = GDP['Country'].apply(lambda x: x.split(\" (\")[0] if (type(x)!=np.float) else x)\n",
    "    pattern='[0-9]'\n",
    "    GDP['Country'] = GDP['Country'].apply(lambda x: re.sub(pattern, '', x) if (type(x)!=np.float) else x)\n",
    "    GDP = GDP.replace({'Country':replace_dict})\n",
    "    GDP = GDP.set_index('Country')\n",
    "    mergeddf = energy.merge(ScimEn.merge(GDP, how='outer', left_index=True, right_index=True), how='outer', left_index=True, right_index=True)\n",
    "    r, c = mergeddf.shape\n",
    "    return r-15"
   ]
  },
  {
   "cell_type": "markdown",
   "metadata": {},
   "source": [
    "## Answer the following questions in the context of only the top 15 countries by Scimagojr Rank (aka the DataFrame returned by `answer_one()`)"
   ]
  },
  {
   "cell_type": "markdown",
   "metadata": {},
   "source": [
    "### Question 3 (6.6%)\n",
    "What is the average GDP over the last 10 years for each country? (exclude missing values from this calculation.)\n",
    "\n",
    "*This function should return a Series named `avgGDP` with 15 countries and their average GDP sorted in descending order.*"
   ]
  },
  {
   "cell_type": "code",
   "execution_count": 5,
   "metadata": {
    "collapsed": true,
    "scrolled": true,
    "umich_part_id": "011",
    "umich_partlist_id": "003"
   },
   "outputs": [],
   "source": [
    "def answer_three():\n",
    "    Top15 = answer_one()\n",
    "    Top15 = Top15.reset_index()\n",
    "    data = Top15[['2006', '2007', '2008', '2009', '2010', '2011', '2012', '2013', '2014', '2015']]\n",
    "    #Top15.drop(Top15.columns.difference(data),1,inplace=True)\n",
    "    avgcalc = Top15[['2006', '2007', '2008', '2009', '2010', '2011', '2012', '2013', '2014', '2015']].mean(axis=1)\n",
    "    #colls = ['Country', '2006', '2007', '2008', '2009', '2010', '2011', '2012', '2013', '2014', '2015']\n",
    "    avgGDP = Top15\n",
    "    avgGDP\n",
    "    avgGDP.drop(avgGDP.columns.difference(['Country','average']), 1,inplace=True)\n",
    "    #avgGDP = avgGDP.set_index('Country')\n",
    "    \n",
    "    avgGDP['average'] = avgcalc\n",
    "    avgGDP = pd.Series(avgGDP['average'].values, index=avgGDP['Country'])\n",
    "    return avgGDP\n"
   ]
  },
  {
   "cell_type": "markdown",
   "metadata": {},
   "source": [
    "### Question 4 (6.6%)\n",
    "By how much had the GDP changed over the 10 year span for the country with the 6th largest average GDP?\n",
    "\n",
    "*This function should return a single number.*"
   ]
  },
  {
   "cell_type": "code",
   "execution_count": 6,
   "metadata": {
    "scrolled": true,
    "umich_part_id": "012",
    "umich_partlist_id": "003"
   },
   "outputs": [
    {
     "data": {
      "text/plain": [
       "246702696075.3999"
      ]
     },
     "execution_count": 6,
     "metadata": {},
     "output_type": "execute_result"
    }
   ],
   "source": [
    "def answer_four():\n",
    "    Top15 = answer_one()\n",
    "    avgGDP = answer_three().to_frame()\n",
    "    #avgGDP = pd.DataFrame({'Country':avgGDP.index, 'average':avgGDP.values})\n",
    "    sixthlargest = pd.DataFrame({'average':avgGDP[0]})\n",
    "    sixthlargest = sixthlargest['average'].nlargest(6)[-1:]\n",
    "    #sixthlargest = sixthlargest[-1:]\n",
    "    indexname = sixthlargest.index.values.tolist()\n",
    "    countrydiff = Top15.loc[indexname]\n",
    "    countrydiff = countrydiff[['2006', '2015']]\n",
    "    countrydiff = countrydiff['2015']-countrydiff['2006']\n",
    "    #countrynamesmall.drop(countrynamesmall.columns.difference(['2006']))\n",
    "    return countrydiff.iloc[0]\n",
    "answer_four()"
   ]
  },
  {
   "cell_type": "markdown",
   "metadata": {},
   "source": [
    "### Question 5 (6.6%)\n",
    "What is the mean `Energy Supply per Capita`?\n",
    "\n",
    "*This function should return a single number.*"
   ]
  },
  {
   "cell_type": "code",
   "execution_count": 7,
   "metadata": {
    "collapsed": true,
    "umich_part_id": "013",
    "umich_partlist_id": "003"
   },
   "outputs": [],
   "source": [
    "def answer_five():\n",
    "    Top15 = answer_one()\n",
    "    mean_energy_supply = Top15['Energy Supply per Capita'].mean()\n",
    "    return float(mean_energy_supply)"
   ]
  },
  {
   "cell_type": "markdown",
   "metadata": {},
   "source": [
    "### Question 6 (6.6%)\n",
    "What country has the maximum % Renewable and what is the percentage?\n",
    "\n",
    "*This function should return a tuple with the name of the country and the percentage.*"
   ]
  },
  {
   "cell_type": "code",
   "execution_count": 8,
   "metadata": {
    "collapsed": true,
    "umich_part_id": "014",
    "umich_partlist_id": "003"
   },
   "outputs": [],
   "source": [
    "def answer_six():\n",
    "    Top15 = answer_one()\n",
    "    max_renewable = Top15['% Renewable'].max()\n",
    "    country = Top15[(Top15['% Renewable']==max_renewable)].index.tolist()\n",
    "    return tuple([''.join(country),max_renewable])\n",
    "\n",
    "#answer_six()"
   ]
  },
  {
   "cell_type": "markdown",
   "metadata": {},
   "source": [
    "### Question 7 (6.6%)\n",
    "Create a new column that is the ratio of Self-Citations to Total Citations. \n",
    "What is the maximum value for this new column, and what country has the highest ratio?\n",
    "\n",
    "*This function should return a tuple with the name of the country and the ratio.*"
   ]
  },
  {
   "cell_type": "code",
   "execution_count": 9,
   "metadata": {
    "collapsed": true,
    "umich_part_id": "015",
    "umich_partlist_id": "003"
   },
   "outputs": [],
   "source": [
    "def answer_seven():\n",
    "    Top15 = answer_one()\n",
    "    Top15['ratio'] = Top15['Self-citations']/Top15['Citations']\n",
    "    ratiolargest = Top15['ratio'].nlargest(1)\n",
    "    #country = Top15.index[(Top15['ratio']==ratiolargest)].tolist()\n",
    "    #country = ratiolargest[ratiolargest]\n",
    "    ratiolargest = ratiolargest.reset_index()\n",
    "    return tuple(ratiolargest.iloc[0])"
   ]
  },
  {
   "cell_type": "markdown",
   "metadata": {},
   "source": [
    "### Question 8 (6.6%)\n",
    "\n",
    "Create a column that estimates the population using Energy Supply and Energy Supply per capita. \n",
    "What is the third most populous country according to this estimate?\n",
    "\n",
    "*This function should return a single string value.*"
   ]
  },
  {
   "cell_type": "code",
   "execution_count": 10,
   "metadata": {
    "collapsed": true,
    "umich_part_id": "016",
    "umich_partlist_id": "003"
   },
   "outputs": [],
   "source": [
    "def answer_eight():\n",
    "    Top15 = answer_one()\n",
    "    Top15['population'] = Top15['Energy Supply'] / Top15['Energy Supply per Capita']\n",
    "    Top15 = Top15.sort_values(['population'], ascending = (False))\n",
    "    indexname = Top15.index.tolist()[2]\n",
    "    return indexname"
   ]
  },
  {
   "cell_type": "markdown",
   "metadata": {},
   "source": [
    "### Question 9 (6.6%)\n",
    "Create a column that estimates the number of citable documents per person. \n",
    "What is the correlation between the number of citable documents per capita and the energy supply per capita? Use the `.corr()` method, (Pearson's correlation).\n",
    "\n",
    "*This function should return a single number.*\n",
    "\n",
    "*(Optional: Use the built-in function `plot9()` to visualize the relationship between Energy Supply per Capita vs. Citable docs per Capita)*"
   ]
  },
  {
   "cell_type": "code",
   "execution_count": 11,
   "metadata": {
    "collapsed": true,
    "umich_part_id": "017",
    "umich_partlist_id": "003"
   },
   "outputs": [],
   "source": [
    "def answer_nine():\n",
    "    Top15 = answer_one()\n",
    "    Top15['PopEst'] = Top15['Energy Supply'] / Top15['Energy Supply per Capita']\n",
    "    Top15['Citable docs per Capita'] = Top15['Citable documents'] / Top15['PopEst']\n",
    "    #Top15['capita'] = Top15['Energy Supply']/Top15['Energy Supply per Capita']\n",
    "    #Top15['Citable docs per Capita'] = Top15['Citable documents']/Top15['capita']\n",
    "    Top15 = Top15[['Energy Supply per Capita', 'Citable docs per Capita']]\n",
    "    #x = pd.Series(Top15['Energy Supply per Capita'])\n",
    "    #y = pd.Series(Top15['Citable docs per Capita'])\n",
    "    #corr_matrix = Top15['Energy Supply per Capita'].astype('float64').corr(Top15['Citable docs per Capita'], method='pearson', min_periods=1).astype('float64')\n",
    "   # Top15['Energy Supply per Capita']=Top15['Energy Supply per Capita'].astype('float64')\n",
    "    \n",
    "    return Top15['Energy Supply per Capita'].astype(float).corr(Top15['Citable docs per Capita'].astype(float), method='pearson')"
   ]
  },
  {
   "cell_type": "code",
   "execution_count": 12,
   "metadata": {
    "collapsed": true
   },
   "outputs": [],
   "source": [
    "def plot9():\n",
    "    import matplotlib as plt\n",
    "    %matplotlib inline\n",
    "    \n",
    "    Top15 = answer_one()\n",
    "    Top15['PopEst'] = Top15['Energy Supply'] / Top15['Energy Supply per Capita']\n",
    "    Top15['Citable docs per Capita'] = Top15['Citable documents'] / Top15['PopEst']\n",
    "    Top15.plot(x='Citable docs per Capita', y='Energy Supply per Capita', kind='scatter', xlim=[0, 0.0006])"
   ]
  },
  {
   "cell_type": "code",
   "execution_count": 13,
   "metadata": {
    "collapsed": true
   },
   "outputs": [],
   "source": [
    "#plot9() # Be sure to comment out plot9() before submitting the assignment!"
   ]
  },
  {
   "cell_type": "markdown",
   "metadata": {},
   "source": [
    "### Question 10 (6.6%)\n",
    "Create a new column with a 1 if the country's % Renewable value is at or above the median for all countries in the top 15, and a 0 if the country's % Renewable value is below the median.\n",
    "\n",
    "*This function should return a series named `HighRenew` whose index is the country name sorted in ascending order of rank.*"
   ]
  },
  {
   "cell_type": "code",
   "execution_count": 14,
   "metadata": {
    "collapsed": true,
    "umich_part_id": "018",
    "umich_partlist_id": "003"
   },
   "outputs": [],
   "source": [
    "def answer_ten():\n",
    "    Top15 = answer_one()\n",
    "    median = np.median(Top15['% Renewable'])\n",
    "    #median_list = \n",
    "    Top15['above_median'] = Top15['% Renewable'].apply(lambda x: 1 if (x>=median) else (0 if (x < median) else x)).astype(int)\n",
    "    \n",
    "    HighRenew = pd.Series(Top15['above_median'])\n",
    "    return HighRenew"
   ]
  },
  {
   "cell_type": "markdown",
   "metadata": {},
   "source": [
    "### Question 11 (6.6%)\n",
    "Use the following dictionary to group the Countries by Continent, then create a dateframe that displays the sample size (the number of countries in each continent bin), and the sum, mean, and std deviation for the estimated population of each country.\n",
    "\n",
    "```python\n",
    "ContinentDict  = {'China':'Asia', \n",
    "                  'United States':'North America', \n",
    "                  'Japan':'Asia', \n",
    "                  'United Kingdom':'Europe', \n",
    "                  'Russian Federation':'Europe', \n",
    "                  'Canada':'North America', \n",
    "                  'Germany':'Europe', \n",
    "                  'India':'Asia',\n",
    "                  'France':'Europe', \n",
    "                  'South Korea':'Asia', \n",
    "                  'Italy':'Europe', \n",
    "                  'Spain':'Europe', \n",
    "                  'Iran':'Asia',\n",
    "                  'Australia':'Australia', \n",
    "                  'Brazil':'South America'}\n",
    "```\n",
    "\n",
    "*This function should return a DataFrame with index named Continent `['Asia', 'Australia', 'Europe', 'North America', 'South America']` and columns `['size', 'sum', 'mean', 'std']`*"
   ]
  },
  {
   "cell_type": "code",
   "execution_count": 15,
   "metadata": {
    "collapsed": true,
    "umich_part_id": "019",
    "umich_partlist_id": "003"
   },
   "outputs": [],
   "source": [
    "def answer_eleven():\n",
    "    ContinentDict  = {'China':'Asia', \n",
    "                      'United States':'North America', \n",
    "                      'Japan':'Asia', \n",
    "                      'United Kingdom':'Europe', \n",
    "                      'Russian Federation':'Europe', \n",
    "                      'Canada':'North America', \n",
    "                      'Germany':'Europe', \n",
    "                      'India':'Asia',\n",
    "                      'France':'Europe', \n",
    "                      'South Korea':'Asia', \n",
    "                      'Italy':'Europe', \n",
    "                      'Spain':'Europe', \n",
    "                      'Iran':'Asia',\n",
    "                      'Australia':'Australia', \n",
    "                      'Brazil':'South America'}\n",
    "    #data = ['2006', '2007', '2008', '2009', '2010', '2011', '2012', '2013', '2014', '2015']\n",
    "    #mergedDF.drop(mergedDF.columns.difference(dontdrop), 1, inplace=True)\n",
    "    Top15 = answer_one()\n",
    "    Continent = Top15.copy()\n",
    "    population = Top15.copy()\n",
    "    population['PopEst'] = (Top15['Energy Supply'] / Top15['Energy Supply per Capita']).astype(float)\n",
    "    #Top15 = Top15.reset_index()\n",
    "    \n",
    "    population.drop(Top15.columns.difference(['PopEst']),1,inplace=True)\n",
    "    ##population['std'] = np.std(population['PopEst'])\n",
    "    #population['sum'] = population.groupby(by=ContinentDict)['PopEst'].transform(np.sum)\n",
    "    Continent['size'] = 0\n",
    "    #population['mean'] = population.groupby(by=ContinentDict)['PopEst'].transform(np.mean)\n",
    "    #population = population.reset_index()\n",
    "    #population['Continent'] = population['Country'].map(ContinentDict)\n",
    "    #population = population.set_index('Continent').groupby(level=0)\n",
    "    population = population.groupby(by=ContinentDict).agg(['sum', 'mean', 'std'])\n",
    "    population.columns = population.columns.droplevel()\n",
    "    #population.drop(population.columns.difference(['std', 'sum', 'mean']), 1, inplace=True)\n",
    "    #population = population.groupby(by=ContinentDict)\n",
    "    Continent.drop(Continent.columns.difference(['size']), 1, inplace=True)\n",
    "    Continent = Continent.groupby(by=ContinentDict).count()\n",
    "    #Top15.drop(Top15.columns.difference(['Country']),1, inplace=True)\n",
    "    #Top15['PopEst'] = pop_est\n",
    "    #Top15 = Top15.groupby(by=ContinentDict).count()#.reset_index(name='count')#.agg(['size','sum', 'mean', 'std'])\n",
    "    Continent = pd.merge(Continent, population, how='outer', left_index=True, right_index=True)\n",
    "    #Top15 = Top15.reset_index()\n",
    "    \n",
    "    #continentlist=[]\n",
    "    #for x,y in zip(ContinentDict, Top15['Country']):\n",
    "        #if(x == y):\n",
    "            #continentlist.append(ContinentDict[x])\n",
    "    #Continent = Top15.copy()\n",
    "    #number of countries in each continent\n",
    "    \n",
    "    \n",
    "    \n",
    "    #Top15['Continent'] = continentlist\n",
    "    #Top15 = Top15.drop(Top15.columns.difference(['Continent','PopEst']),1, inplace=True)\n",
    "    #Continent = Continent.groupby(['Continent']).count().sort_values(['Country']).rename(columns={'Country':'size'})\n",
    "    #countList = Continent['Continent'].groupby((Continent['Continent']).agg{'continent':'count', }\n",
    "    #Top15=Top15.groupby('Continent').groupby(level=0).count()\n",
    "    #Continent = Continent.groupby(counts=['Continent'].count(); \n",
    "    #Top15['size'] = Top15['Continent'].count()\n",
    "    \n",
    "    \n",
    "    \n",
    "        #if (x==y):\n",
    "            #continentlist.append()\n",
    "    #Continent = Top15.groupby('')[Top15.index].agg([np.size, np.sum, np.mean])\n",
    "    #Top15 = Top15.set_index('Country')\n",
    "    #newdata = Top15.set_index('Country').groupby(level=0)[['2006', '2007', '2008', '2009', '2010', '2011', '2012', '2013', '2014', '2015']].agg([np.sum, np.average])\n",
    "    #mean = Top15[['2006', '2007', '2008', '2009', '2010', '2011', '2012', '2013', '2014', '2015']].mean()\n",
    "    #totalsum = Top15[['2006', '2007', '2008', '2009', '2010', '2011', '2012', '2013', '2014', '2015']].sum()\n",
    "    #sd = pd.DataFrame(Top15[['2006', '2007', '2008', '2009', '2010', '2011', '2012', '2013', '2014', '2015']]).std(axis=1, skipna=False)\n",
    "    #newdata = Top15.copy()\n",
    "    #.agg([np.sum, np.average, np.std])\n",
    "    #newdata['sum'] = totalsum\n",
    "    #newdata['mean'] = mean\n",
    "    #newdata['std'] = sd\n",
    "    return Continent\n",
    "             #.groupby(by=ContinentDict).agg(['size','sum', 'mean', 'std'])\n",
    "\n",
    "\n",
    "#for x in ContinentDict:\n",
    "   #print(ContinentDict[x])\n",
    "    \n"
   ]
  },
  {
   "cell_type": "markdown",
   "metadata": {},
   "source": [
    "### Question 12 (6.6%)\n",
    "Cut % Renewable into 5 bins. Group Top15 by the Continent, as well as these new % Renewable bins. How many countries are in each of these groups?\n",
    "\n",
    "*This function should return a __Series__ with a MultiIndex of `Continent`, then the bins for `% Renewable`. Do not include groups with no countries.*"
   ]
  },
  {
   "cell_type": "code",
   "execution_count": 16,
   "metadata": {
    "collapsed": true,
    "scrolled": true
   },
   "outputs": [],
   "source": [
    "def answer_twelve():\n",
    "    ContinentDict  = {'China':'Asia', \n",
    "                      'United States':'North America', \n",
    "                      'Japan':'Asia', \n",
    "                      'United Kingdom':'Europe', \n",
    "                      'Russian Federation':'Europe', \n",
    "                      'Canada':'North America', \n",
    "                      'Germany':'Europe', \n",
    "                      'India':'Asia',\n",
    "                      'France':'Europe', \n",
    "                      'South Korea':'Asia', \n",
    "                      'Italy':'Europe', \n",
    "                      'Spain':'Europe', \n",
    "                      'Iran':'Asia',\n",
    "                      'Australia':'Australia', \n",
    "                      'Brazil':'South America'}\n",
    "    #convert dictionary to tuples\n",
    "    \n",
    "    #ContinentTuples = [(k, v) for k, v in ContinentDict.items()]\n",
    "    Top15 = answer_one()\n",
    "    Top15 = Top15.reset_index()\n",
    "    Top15['Continent'] = Top15['Country'].map(ContinentDict)\n",
    "    \n",
    "    Top15.drop(Top15.columns.difference(['Continent', 'Country','% Renewable']), 1, inplace=True)\n",
    "    #Top15=Top15.set_index(['Continent', 'Country'], inplace=False)\n",
    "    renewable = Top15.copy()\n",
    "    Top15['% Renewable'] = pd.cut(Top15['% Renewable'],  bins=5, labels=False)\n",
    "    #renewable = renewable.set_index(['Continent', 'Country'])\n",
    "    #countries = Top15.copy()\n",
    "    #countries=countries.set_index(['Continent', 'Country'], inplace=True)\n",
    "    Top15= Top15.groupby(['Continent', '% Renewable']).count()\n",
    "    #new_df = Top15.merge(renewable, how='outer', right_index=True, left_index=True)\n",
    "    \n",
    "    #pd.MultiIndex.from_tuples(ContinentTuples, names=('Country', 'Continent'))\n",
    "    #renewable_bin = \n",
    "    #renewable_bin = renewable_bin.cut(, bins=5, labels=False)\n",
    "    #|indexnames = countries[countries['% Renewable']==0].index\n",
    "    #countries.drop(indexnames,inplace=True)\n",
    "    return Top15.ix[:,0]#pd.cut(Top15['% Renewable'],  bins=5, labels=False"
   ]
  },
  {
   "cell_type": "markdown",
   "metadata": {},
   "source": [
    "### Question 13 (6.6%)\n",
    "Convert the Population Estimate series to a string with thousands separator (using commas). Do not round the results.\n",
    "\n",
    "e.g. 317615384.61538464 -> 317,615,384.61538464\n",
    "\n",
    "*This function should return a Series `PopEst` whose index is the country name and whose values are the population estimate string.*"
   ]
  },
  {
   "cell_type": "code",
   "execution_count": 17,
   "metadata": {
    "collapsed": true,
    "scrolled": true,
    "umich_part_id": "020",
    "umich_partlist_id": "003"
   },
   "outputs": [],
   "source": [
    "def answer_thirteen():\n",
    "    Top15 = answer_one()\n",
    "    PopEst = Top15.copy()\n",
    "    PopEst['PopEst'] = (Top15['Energy Supply'] / Top15['Energy Supply per Capita']).astype(float)\n",
    "    PopEst['PopEst'] = PopEst['PopEst'].map('{:,}'.format)\n",
    "    PopEst.drop(PopEst.columns.difference(['PopEst']), 1, inplace=True)\n",
    "    return pd.Series(PopEst['PopEst'])"
   ]
  },
  {
   "cell_type": "markdown",
   "metadata": {},
   "source": [
    "### Optional\n",
    "\n",
    "Use the built in function `plot_optional()` to see an example visualization."
   ]
  },
  {
   "cell_type": "code",
   "execution_count": 53,
   "metadata": {
    "collapsed": true,
    "scrolled": true
   },
   "outputs": [],
   "source": [
    "def plot_optional():\n",
    "    import matplotlib as plt\n",
    "    %matplotlib inline\n",
    "    Top15 = answer_one()\n",
    "    ax = Top15.plot(x='Rank', y='% Renewable', kind='scatter', \n",
    "                    c=['#e41a1c','#377eb8','#e41a1c','#4daf4a','#4daf4a','#377eb8','#4daf4a','#e41a1c',\n",
    "                       '#4daf4a','#e41a1c','#4daf4a','#4daf4a','#e41a1c','#dede00','#ff7f00'], \n",
    "                    xticks=range(1,16), s=6*Top15['2014']/10**10, alpha=.75, figsize=[16,6]);\n",
    "\n",
    "    for i, txt in enumerate(Top15.index):\n",
    "        ax.annotate(txt, [Top15['Rank'][i], Top15['% Renewable'][i]], ha='center')\n",
    "\n",
    "    print(\"This is an example of a visualization that can be created to help understand the data. \\\n",
    "This is a bubble chart showing % Renewable vs. Rank. The size of the bubble corresponds to the countries' \\\n",
    "2014 GDP, and the color corresponds to the continent.\")"
   ]
  },
  {
   "cell_type": "code",
   "execution_count": 54,
   "metadata": {},
   "outputs": [
    {
     "name": "stdout",
     "output_type": "stream",
     "text": [
      "This is an example of a visualization that can be created to help understand the data. This is a bubble chart showing % Renewable vs. Rank. The size of the bubble corresponds to the countries' 2014 GDP, and the color corresponds to the continent.\n"
     ]
    },
    {
     "data": {
      "image/png": "[encoded data removed]",
      "text/plain": [
       "<matplotlib.figure.Figure at 0x7f4e78c90c50>"
      ]
     },
     "metadata": {},
     "output_type": "display_data"
    }
   ],
   "source": [
    "#plot_optional() # Be sure to comment out plot_optional() before submitting the assignment!"
   ]
  }
 ],
 "metadata": {
  "anaconda-cloud": {},
  "coursera": {
   "course_slug": "python-data-analysis",
   "graded_item_id": "zAr06",
   "launcher_item_id": "KSSjT",
   "part_id": "SL3fU"
  },
  "kernelspec": {
   "display_name": "Python 3",
   "language": "python",
   "name": "python3"
  },
  "language_info": {
   "codemirror_mode": {
    "name": "ipython",
    "version": 3
   },
   "file_extension": ".py",
   "mimetype": "text/x-python",
   "name": "python",
   "nbconvert_exporter": "python",
   "pygments_lexer": "ipython3",
   "version": "3.6.2"
  },
  "umich": {
   "id": "Assignment 3",
   "version": "1.5"
  }
 },
 "nbformat": 4,
 "nbformat_minor": 1
}
